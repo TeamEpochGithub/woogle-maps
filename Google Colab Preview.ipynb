{
  "cells": [
    {
      "cell_type": "markdown",
      "metadata": {
        "id": "gyMBkEWo8nT-"
      },
      "source": [
        "# Google Colab Notebook\n",
        "Use this notebook to run Woogle Maps in Google Colab. Simply run all cells sequentially. It will take a few minutes to set up.\n",
        "\n",
        "## Step 1: Get the correct python version\n",
        "By default, Google Colab uses Python 3.10, but we need Python 3.12 for Woogle Maps. The following cell install the correct Python version."
      ]
    },
    {
      "cell_type": "code",
      "execution_count": 1,
      "metadata": {
        "id": "nuowyK2s8bvd",
        "colab": {
          "base_uri": "https://localhost:8080/"
        },
        "outputId": "503b488e-e0ed-494d-edef-28d7673c05ea"
      },
      "source": [
        "!apt-get update\n",
        "!apt-get install python3.12 python3.12-distutils\n",
        "\n",
        "# Change 'python' to point at the newly installed version\n",
        "!sudo update-alternatives --install /usr/bin/python3 python3 /usr/bin/python3.10 1\n",
        "!sudo update-alternatives --install /usr/bin/python3 python3 /usr/bin/python3.12 2\n",
        "\n",
        "# Check that it prints \"Python 3.12.2\"\n",
        "!python --version"
      ],
      "outputs": []
    },
    {
      "cell_type": "markdown",
      "metadata": {
        "id": "Ok30y7IO5fey"
      },
      "source": [
        "## Step 2: Clone the repository from GitHub\n",
        "\n",
        "Download the source code and checkout a branch that has been tested to work in this notebook. Ignore any warnings that mention `detached HEAD`."
      ]
    },
    {
      "cell_type": "code",
      "execution_count": 2,
      "metadata": {
        "id": "yrhEA6Wg5i2m",
        "colab": {
          "base_uri": "https://localhost:8080/"
        },
        "outputId": "7636d427-5ec9-4f2c-c86d-8acf96d9fcad"
      },
      "source": "!git clone https://github.com/TeamEpochGithub/woogle-maps",
      "outputs": []
    },
    {
      "cell_type": "markdown",
      "metadata": {
        "id": "M1o5CBdP6Xw9"
      },
      "source": [
        "## Step 3: Install all dependencies\n",
        "\n",
        "Since dependencies are managed with Poetry, we need to install pip and Poetry first before we can install any dependencies."
      ]
    },
    {
      "cell_type": "code",
      "execution_count": 3,
      "metadata": {
        "collapsed": true,
        "id": "JEYTYiI2_yVK",
        "colab": {
          "base_uri": "https://localhost:8080/"
        },
        "outputId": "c0a471ce-3a06-4a17-b7a0-5877c0f1e891"
      },
      "source": [
        "# Install pip using get-pip\n",
        "!wget https://bootstrap.pypa.io/get-pip.py\n",
        "!python get-pip.py\n",
        "!python3.12 -m pip install --upgrade pip --user\n",
        "!pip -V"
      ],
      "outputs": []
    },
    {
      "cell_type": "code",
      "execution_count": 4,
      "metadata": {
        "collapsed": true,
        "id": "9FUKlWk9CIjp",
        "colab": {
          "base_uri": "https://localhost:8080/"
        },
        "outputId": "52c2a182-b6e3-44d5-d180-30a1504e2d36"
      },
      "source": [
        "# Use pip to install Poetry\n",
        "!python -m pip install poetry"
      ],
      "outputs": []
    },
    {
      "cell_type": "code",
      "execution_count": 5,
      "metadata": {
        "collapsed": true,
        "id": "0VjAtnXvEWR6",
        "colab": {
          "base_uri": "https://localhost:8080/"
        },
        "outputId": "d2e71341-1d97-4a66-8816-c012a184c6c9"
      },
      "source": [
        "# Install python devtools, necessary for building some dependencies\n",
        "!apt-get install python3.12-dev"
      ],
      "outputs": []
    },
    {
      "cell_type": "code",
      "execution_count": 6,
      "metadata": {
        "collapsed": true,
        "id": "6krIga0rCSJG",
        "colab": {
          "base_uri": "https://localhost:8080/"
        },
        "outputId": "f66a6334-a985-4101-e9be-0d8430d069b8"
      },
      "source": [
        "# Use poetry to install or build all dependencies\n",
        "!cd woogle-maps; python -m poetry -q install && echo 'Finished!' || 'Failed!'"
      ],
      "outputs": []
    },
    {
      "cell_type": "code",
      "execution_count": 7,
      "metadata": {
        "id": "X0oQ7rTtBDBX",
        "colab": {
          "base_uri": "https://localhost:8080/"
        },
        "outputId": "112982bd-30d5-49e7-c3d7-bfabc5e5927d"
      },
      "source": [
        "# Sanity check\n",
        "!echo Missing dependencies:\n",
        "!cd woogle-maps; python3.12 -m poetry install --dry-run | grep \"\\- Installing\" | grep -v \"Already installed\" || echo \"No missing dependencies found, sucess!\""
      ],
      "outputs": []
    },
    {
      "cell_type": "code",
      "source": [
        "# Last things to set up\n",
        "!cd woogle-maps; poetry run python -c \"import nltk; nltk.download('punkt')\""
      ],
      "metadata": {
        "id": "phBw62nKviu0",
        "colab": {
          "base_uri": "https://localhost:8080/"
        },
        "outputId": "53a30537-af3e-497e-9a06-68ca9cae97a4"
      },
      "execution_count": 8,
      "outputs": []
    },
    {
      "cell_type": "markdown",
      "metadata": {
        "id": "3Mdaf6lBGZjh"
      },
      "source": [
        "## Step 4: Setup a browser window to access the app\n",
        "\n",
        "Since localhost is not available on Google Colab, we need ngrok to access the application instead. At the end of this step, you will find the link you need."
      ]
    },
    {
      "cell_type": "code",
      "execution_count": 9,
      "metadata": {
        "id": "rHRDQNe_GYqh",
        "colab": {
          "base_uri": "https://localhost:8080/"
        },
        "outputId": "e43cc6d5-d61b-4455-a0a3-e0081803edc2"
      },
      "source": [
        "# Install ngrok, used to open a website server from the notebook\n",
        "!curl -s https://ngrok-agent.s3.amazonaws.com/ngrok.asc \\\n",
        "\t| sudo tee /etc/apt/trusted.gpg.d/ngrok.asc >/dev/null \\\n",
        "\t&& echo \"deb https://ngrok-agent.s3.amazonaws.com buster main\" \\\n",
        "\t| sudo tee /etc/apt/sources.list.d/ngrok.list \\\n",
        "\t&& sudo apt update \\\n",
        "\t&& sudo apt install ngrok"
      ],
      "outputs": []
    },
    {
      "cell_type": "code",
      "execution_count": 10,
      "metadata": {
        "id": "ueh_NDqCKpRk",
        "colab": {
          "base_uri": "https://localhost:8080/"
        },
        "outputId": "9134645a-923e-4348-981c-dd74bf51959e"
      },
      "source": [
        "# Sign in (using throwaway ngrok account made for this purpose)\n",
        "!ngrok config add-authtoken 2fe2QHsdRZYuNSJjKWEu0oIME8M_4PPSbvpQceV7d3RLepLea; sleep 3"
      ],
      "outputs": []
    },
    {
      "cell_type": "code",
      "execution_count": 11,
      "metadata": {
        "id": "omkcJpB4G7Ca"
      },
      "source": [
        "# Run ngrok to tunnel Dash app port 8050 to the outside world.\n",
        "# This command runs in the background.\n",
        "get_ipython().system_raw('ngrok http 8060 &')\n",
        "!sleep 3"
      ],
      "outputs": []
    },
    {
      "cell_type": "code",
      "execution_count": 12,
      "metadata": {
        "id": "RsKMUPCVLaRQ",
        "colab": {
          "base_uri": "https://localhost:8080/"
        },
        "outputId": "7e0d0703-feae-4eb8-bcc7-05ec73e2e90b"
      },
      "source": [
        "# Check if its running, should print at least one line\n",
        "!sudo lsof -PiTCP -sTCP:LISTEN | grep ngrok && echo \"Sucess!\" || echo \"Failed! nothing running. Run the cell above again, then the one below to get the link\""
      ],
      "outputs": []
    },
    {
      "cell_type": "code",
      "source": [
        "# Get the public URL where you can access the Dash app. Copy this URL.\n",
        "!curl -s http://localhost:4040/api/tunnels | python -c \\\n",
        "    \"import sys, json; print(json.load(sys.stdin)['tunnels'][0]['public_url'])\""
      ],
      "metadata": {
        "id": "UceE0Nb6tblj",
        "colab": {
          "base_uri": "https://localhost:8080/"
        },
        "outputId": "d6e291c3-1650-494d-8522-3b695d22a963"
      },
      "execution_count": 13,
      "outputs": []
    },
    {
      "cell_type": "markdown",
      "metadata": {
        "id": "UR5lAgjpL8vt"
      },
      "source": [
        "## Step 5: Start the app, then open link above\n",
        "\n",
        "Run this cell untill it says 'Dash is running on ...'.\n",
        "Don't use the link starting with 127.0.0.1.\n",
        "Instead, use the link above, ending with 'ngrok-free.app'. Click 'Visit Site'."
      ]
    },
    {
      "cell_type": "code",
      "execution_count": null,
      "metadata": {
        "id": "mA8JquWtMN2F",
        "colab": {
          "base_uri": "https://localhost:8080/"
        },
        "outputId": "84060503-36d0-4aba-c338-fc97e4a63f2b"
      },
      "source": [
        "!cd woogle-maps; poetry run python dashapp/app.py"
      ],
      "outputs": []
    }
  ],
  "metadata": {
    "colab": {
      "provenance": []
    },
    "kernelspec": {
      "display_name": "Python 3",
      "name": "python3"
    },
    "language_info": {
      "name": "python"
    }
  },
  "nbformat": 4,
  "nbformat_minor": 0
}
